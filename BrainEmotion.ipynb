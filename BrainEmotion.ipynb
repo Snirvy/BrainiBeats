{
 "cells": [
  {
   "cell_type": "code",
   "execution_count": 1,
   "id": "044c7d94",
   "metadata": {},
   "outputs": [],
   "source": [
    "import numpy as np\n",
    "from sklearn import preprocessing\n",
    "import matplotlib.pyplot as plt\n",
    "import os\n",
    "import pandas as pd\n",
    "os.chdir('C:\\\\Users\\\\user1\\\\Desktop\\\\Brainihacks\\\\BrainiBeats')"
   ]
  },
  {
   "cell_type": "code",
   "execution_count": null,
   "id": "a19d76d9",
   "metadata": {},
   "outputs": [],
   "source": [
    "eegHappyAnita = pd.read_csv('C:\\\\Users\\\\user1\\\\Desktop\\\\Brainihacks\\\\BrainiBeats\\\\emotunz\\\\happyanita\\\\5.csv')\n",
    "eegSadAnita = pd.read_csv('C:\\\\Users\\\\user1\\\\Desktop\\\\Brainihacks\\\\BrainiBeats\\\\emotunz\\\\sadanita\\\\5.csv')\n",
    "\n",
    "eegHappyEthel = pd.read_csv('C:\\\\Users\\\\user1\\\\Desktop\\\\Brainihacks\\\\BrainiBeats\\\\emotunz\\\\happyethel\\\\5.csv')\n",
    "eegSadEthel = pd.read_csv('C:\\\\Users\\\\user1\\\\Desktop\\\\Brainihacks\\\\BrainiBeats\\\\emotunz\\\\sadethel\\\\5.csv')\n"
   ]
  },
  {
   "cell_type": "code",
   "execution_count": null,
   "id": "ece2302b",
   "metadata": {},
   "outputs": [],
   "source": [
    "eegHappyAnita.head(5)"
   ]
  },
  {
   "cell_type": "code",
   "execution_count": 5,
   "id": "3b6c445e",
   "metadata": {},
   "outputs": [
    {
     "data": {
      "text/html": [
       "<div>\n",
       "<style scoped>\n",
       "    .dataframe tbody tr th:only-of-type {\n",
       "        vertical-align: middle;\n",
       "    }\n",
       "\n",
       "    .dataframe tbody tr th {\n",
       "        vertical-align: top;\n",
       "    }\n",
       "\n",
       "    .dataframe thead th {\n",
       "        text-align: right;\n",
       "    }\n",
       "</style>\n",
       "<table border=\"1\" class=\"dataframe\">\n",
       "  <thead>\n",
       "    <tr style=\"text-align: right;\">\n",
       "      <th></th>\n",
       "      <th>Time</th>\n",
       "      <th>FZ</th>\n",
       "      <th>C3</th>\n",
       "      <th>CZ</th>\n",
       "      <th>C4</th>\n",
       "      <th>PZ</th>\n",
       "      <th>F3</th>\n",
       "      <th>OZ</th>\n",
       "      <th>F4</th>\n",
       "      <th>AccX</th>\n",
       "      <th>AccY</th>\n",
       "      <th>AccZ</th>\n",
       "      <th>Gyro1</th>\n",
       "      <th>Gyro2</th>\n",
       "      <th>Gyro3</th>\n",
       "      <th>Battery</th>\n",
       "      <th>Counter</th>\n",
       "      <th>Validation</th>\n",
       "    </tr>\n",
       "  </thead>\n",
       "  <tbody>\n",
       "    <tr>\n",
       "      <th>0</th>\n",
       "      <td>23090.499892</td>\n",
       "      <td>220989.921875</td>\n",
       "      <td>228420.000000</td>\n",
       "      <td>684145.2500</td>\n",
       "      <td>335952.90625</td>\n",
       "      <td>-709067.0000</td>\n",
       "      <td>330315.78125</td>\n",
       "      <td>236733.687500</td>\n",
       "      <td>-708300.3750</td>\n",
       "      <td>-0.131592</td>\n",
       "      <td>0.988037</td>\n",
       "      <td>0.092285</td>\n",
       "      <td>-0.579834</td>\n",
       "      <td>2.502441</td>\n",
       "      <td>-0.122070</td>\n",
       "      <td>66.666672</td>\n",
       "      <td>1397863.0</td>\n",
       "      <td>1.0</td>\n",
       "    </tr>\n",
       "    <tr>\n",
       "      <th>1</th>\n",
       "      <td>23090.508641</td>\n",
       "      <td>221066.359375</td>\n",
       "      <td>228513.421875</td>\n",
       "      <td>684247.0000</td>\n",
       "      <td>336078.53125</td>\n",
       "      <td>-709059.1250</td>\n",
       "      <td>330419.25000</td>\n",
       "      <td>236816.468750</td>\n",
       "      <td>-708292.1250</td>\n",
       "      <td>-0.132080</td>\n",
       "      <td>0.986816</td>\n",
       "      <td>0.094482</td>\n",
       "      <td>-0.549316</td>\n",
       "      <td>2.532959</td>\n",
       "      <td>-0.061035</td>\n",
       "      <td>66.666672</td>\n",
       "      <td>1397864.0</td>\n",
       "      <td>1.0</td>\n",
       "    </tr>\n",
       "    <tr>\n",
       "      <th>2</th>\n",
       "      <td>23090.511601</td>\n",
       "      <td>220701.046875</td>\n",
       "      <td>228203.281250</td>\n",
       "      <td>683916.1250</td>\n",
       "      <td>335767.84375</td>\n",
       "      <td>-709068.5625</td>\n",
       "      <td>330169.06250</td>\n",
       "      <td>236491.390625</td>\n",
       "      <td>-708301.0000</td>\n",
       "      <td>-0.132812</td>\n",
       "      <td>0.983887</td>\n",
       "      <td>0.095703</td>\n",
       "      <td>-0.518799</td>\n",
       "      <td>2.624511</td>\n",
       "      <td>0.000000</td>\n",
       "      <td>66.666672</td>\n",
       "      <td>1397865.0</td>\n",
       "      <td>1.0</td>\n",
       "    </tr>\n",
       "    <tr>\n",
       "      <th>3</th>\n",
       "      <td>23090.511634</td>\n",
       "      <td>220472.343750</td>\n",
       "      <td>227949.453125</td>\n",
       "      <td>683623.9375</td>\n",
       "      <td>335463.75000</td>\n",
       "      <td>-709070.2500</td>\n",
       "      <td>329944.75000</td>\n",
       "      <td>236235.953125</td>\n",
       "      <td>-708302.5625</td>\n",
       "      <td>-0.133545</td>\n",
       "      <td>0.983887</td>\n",
       "      <td>0.092529</td>\n",
       "      <td>-0.549316</td>\n",
       "      <td>2.624511</td>\n",
       "      <td>-0.091553</td>\n",
       "      <td>66.666672</td>\n",
       "      <td>1397866.0</td>\n",
       "      <td>1.0</td>\n",
       "    </tr>\n",
       "    <tr>\n",
       "      <th>4</th>\n",
       "      <td>23090.522397</td>\n",
       "      <td>220839.812500</td>\n",
       "      <td>228253.968750</td>\n",
       "      <td>683944.1875</td>\n",
       "      <td>335760.59375</td>\n",
       "      <td>-709057.4375</td>\n",
       "      <td>330198.31250</td>\n",
       "      <td>236553.890625</td>\n",
       "      <td>-708289.8750</td>\n",
       "      <td>-0.135010</td>\n",
       "      <td>0.983887</td>\n",
       "      <td>0.092041</td>\n",
       "      <td>-0.335693</td>\n",
       "      <td>2.593994</td>\n",
       "      <td>-0.091553</td>\n",
       "      <td>66.666672</td>\n",
       "      <td>1397867.0</td>\n",
       "      <td>1.0</td>\n",
       "    </tr>\n",
       "    <tr>\n",
       "      <th>...</th>\n",
       "      <td>...</td>\n",
       "      <td>...</td>\n",
       "      <td>...</td>\n",
       "      <td>...</td>\n",
       "      <td>...</td>\n",
       "      <td>...</td>\n",
       "      <td>...</td>\n",
       "      <td>...</td>\n",
       "      <td>...</td>\n",
       "      <td>...</td>\n",
       "      <td>...</td>\n",
       "      <td>...</td>\n",
       "      <td>...</td>\n",
       "      <td>...</td>\n",
       "      <td>...</td>\n",
       "      <td>...</td>\n",
       "      <td>...</td>\n",
       "      <td>...</td>\n",
       "    </tr>\n",
       "    <tr>\n",
       "      <th>14995</th>\n",
       "      <td>23150.469051</td>\n",
       "      <td>220189.281250</td>\n",
       "      <td>227600.500000</td>\n",
       "      <td>683847.1875</td>\n",
       "      <td>308141.43750</td>\n",
       "      <td>-709142.5625</td>\n",
       "      <td>330013.34375</td>\n",
       "      <td>235812.968750</td>\n",
       "      <td>-708377.0000</td>\n",
       "      <td>-0.027344</td>\n",
       "      <td>0.995850</td>\n",
       "      <td>0.129639</td>\n",
       "      <td>-0.396728</td>\n",
       "      <td>1.922607</td>\n",
       "      <td>-0.946045</td>\n",
       "      <td>60.000000</td>\n",
       "      <td>1412858.0</td>\n",
       "      <td>1.0</td>\n",
       "    </tr>\n",
       "    <tr>\n",
       "      <th>14996</th>\n",
       "      <td>23150.469063</td>\n",
       "      <td>220183.109375</td>\n",
       "      <td>227526.015625</td>\n",
       "      <td>683728.5625</td>\n",
       "      <td>308010.53125</td>\n",
       "      <td>-709134.3125</td>\n",
       "      <td>329914.53125</td>\n",
       "      <td>235723.921875</td>\n",
       "      <td>-708368.7500</td>\n",
       "      <td>-0.027344</td>\n",
       "      <td>0.994385</td>\n",
       "      <td>0.129395</td>\n",
       "      <td>-0.427246</td>\n",
       "      <td>1.983642</td>\n",
       "      <td>-0.976562</td>\n",
       "      <td>60.000000</td>\n",
       "      <td>1412859.0</td>\n",
       "      <td>1.0</td>\n",
       "    </tr>\n",
       "    <tr>\n",
       "      <th>14997</th>\n",
       "      <td>23150.470942</td>\n",
       "      <td>220627.468750</td>\n",
       "      <td>227937.921875</td>\n",
       "      <td>684174.6875</td>\n",
       "      <td>308444.96875</td>\n",
       "      <td>-709118.2500</td>\n",
       "      <td>330278.59375</td>\n",
       "      <td>236169.531250</td>\n",
       "      <td>-708352.8125</td>\n",
       "      <td>-0.028564</td>\n",
       "      <td>0.992188</td>\n",
       "      <td>0.130615</td>\n",
       "      <td>-0.335693</td>\n",
       "      <td>1.983642</td>\n",
       "      <td>-0.915527</td>\n",
       "      <td>60.000000</td>\n",
       "      <td>1412860.0</td>\n",
       "      <td>1.0</td>\n",
       "    </tr>\n",
       "    <tr>\n",
       "      <th>14998</th>\n",
       "      <td>23150.479701</td>\n",
       "      <td>220708.109375</td>\n",
       "      <td>228064.968750</td>\n",
       "      <td>684342.1250</td>\n",
       "      <td>308612.96875</td>\n",
       "      <td>-709122.2500</td>\n",
       "      <td>330412.34375</td>\n",
       "      <td>236315.437500</td>\n",
       "      <td>-708357.0625</td>\n",
       "      <td>-0.029297</td>\n",
       "      <td>0.990234</td>\n",
       "      <td>0.128174</td>\n",
       "      <td>-0.244141</td>\n",
       "      <td>2.105713</td>\n",
       "      <td>-1.068115</td>\n",
       "      <td>60.000000</td>\n",
       "      <td>1412861.0</td>\n",
       "      <td>1.0</td>\n",
       "    </tr>\n",
       "    <tr>\n",
       "      <th>14999</th>\n",
       "      <td>23150.489092</td>\n",
       "      <td>220617.359375</td>\n",
       "      <td>228007.031250</td>\n",
       "      <td>684293.4375</td>\n",
       "      <td>308574.43750</td>\n",
       "      <td>-709127.8750</td>\n",
       "      <td>330379.00000</td>\n",
       "      <td>236248.656250</td>\n",
       "      <td>-708362.2500</td>\n",
       "      <td>-0.030518</td>\n",
       "      <td>0.990479</td>\n",
       "      <td>0.129150</td>\n",
       "      <td>-0.122070</td>\n",
       "      <td>2.136230</td>\n",
       "      <td>-1.037598</td>\n",
       "      <td>60.000000</td>\n",
       "      <td>1412862.0</td>\n",
       "      <td>1.0</td>\n",
       "    </tr>\n",
       "  </tbody>\n",
       "</table>\n",
       "<p>15000 rows × 18 columns</p>\n",
       "</div>"
      ],
      "text/plain": [
       "               Time             FZ             C3           CZ            C4  \\\n",
       "0      23090.499892  220989.921875  228420.000000  684145.2500  335952.90625   \n",
       "1      23090.508641  221066.359375  228513.421875  684247.0000  336078.53125   \n",
       "2      23090.511601  220701.046875  228203.281250  683916.1250  335767.84375   \n",
       "3      23090.511634  220472.343750  227949.453125  683623.9375  335463.75000   \n",
       "4      23090.522397  220839.812500  228253.968750  683944.1875  335760.59375   \n",
       "...             ...            ...            ...          ...           ...   \n",
       "14995  23150.469051  220189.281250  227600.500000  683847.1875  308141.43750   \n",
       "14996  23150.469063  220183.109375  227526.015625  683728.5625  308010.53125   \n",
       "14997  23150.470942  220627.468750  227937.921875  684174.6875  308444.96875   \n",
       "14998  23150.479701  220708.109375  228064.968750  684342.1250  308612.96875   \n",
       "14999  23150.489092  220617.359375  228007.031250  684293.4375  308574.43750   \n",
       "\n",
       "                PZ            F3             OZ           F4      AccX  \\\n",
       "0     -709067.0000  330315.78125  236733.687500 -708300.3750 -0.131592   \n",
       "1     -709059.1250  330419.25000  236816.468750 -708292.1250 -0.132080   \n",
       "2     -709068.5625  330169.06250  236491.390625 -708301.0000 -0.132812   \n",
       "3     -709070.2500  329944.75000  236235.953125 -708302.5625 -0.133545   \n",
       "4     -709057.4375  330198.31250  236553.890625 -708289.8750 -0.135010   \n",
       "...            ...           ...            ...          ...       ...   \n",
       "14995 -709142.5625  330013.34375  235812.968750 -708377.0000 -0.027344   \n",
       "14996 -709134.3125  329914.53125  235723.921875 -708368.7500 -0.027344   \n",
       "14997 -709118.2500  330278.59375  236169.531250 -708352.8125 -0.028564   \n",
       "14998 -709122.2500  330412.34375  236315.437500 -708357.0625 -0.029297   \n",
       "14999 -709127.8750  330379.00000  236248.656250 -708362.2500 -0.030518   \n",
       "\n",
       "           AccY      AccZ     Gyro1     Gyro2     Gyro3    Battery    Counter  \\\n",
       "0      0.988037  0.092285 -0.579834  2.502441 -0.122070  66.666672  1397863.0   \n",
       "1      0.986816  0.094482 -0.549316  2.532959 -0.061035  66.666672  1397864.0   \n",
       "2      0.983887  0.095703 -0.518799  2.624511  0.000000  66.666672  1397865.0   \n",
       "3      0.983887  0.092529 -0.549316  2.624511 -0.091553  66.666672  1397866.0   \n",
       "4      0.983887  0.092041 -0.335693  2.593994 -0.091553  66.666672  1397867.0   \n",
       "...         ...       ...       ...       ...       ...        ...        ...   \n",
       "14995  0.995850  0.129639 -0.396728  1.922607 -0.946045  60.000000  1412858.0   \n",
       "14996  0.994385  0.129395 -0.427246  1.983642 -0.976562  60.000000  1412859.0   \n",
       "14997  0.992188  0.130615 -0.335693  1.983642 -0.915527  60.000000  1412860.0   \n",
       "14998  0.990234  0.128174 -0.244141  2.105713 -1.068115  60.000000  1412861.0   \n",
       "14999  0.990479  0.129150 -0.122070  2.136230 -1.037598  60.000000  1412862.0   \n",
       "\n",
       "       Validation  \n",
       "0             1.0  \n",
       "1             1.0  \n",
       "2             1.0  \n",
       "3             1.0  \n",
       "4             1.0  \n",
       "...           ...  \n",
       "14995         1.0  \n",
       "14996         1.0  \n",
       "14997         1.0  \n",
       "14998         1.0  \n",
       "14999         1.0  \n",
       "\n",
       "[15000 rows x 18 columns]"
      ]
     },
     "execution_count": 5,
     "metadata": {},
     "output_type": "execute_result"
    }
   ],
   "source": [
    "\n",
    "eeg = eeg.rename(columns={'PO7': 'F3', 'PO8': 'F4'})\n",
    "eeg"
   ]
  },
  {
   "cell_type": "code",
   "execution_count": 16,
   "id": "affe331b",
   "metadata": {},
   "outputs": [
    {
     "name": "stdout",
     "output_type": "stream",
     "text": [
      "15000\n"
     ]
    }
   ],
   "source": [
    "print(len(eeg['F3']))"
   ]
  },
  {
   "cell_type": "code",
   "execution_count": 35,
   "id": "bb6fa4b8",
   "metadata": {},
   "outputs": [
    {
     "name": "stdout",
     "output_type": "stream",
     "text": [
      "[1.4595020459730619, 0.5611339363709968, 0.23316581161654995, 0.23053440522861116, 0.5786165643077805, 0.6522377216094589, 0.10437633670178612]\n"
     ]
    }
   ],
   "source": [
    "def FrontalAlphaAsymmetry(left, right):\n",
    "    epochs = []\n",
    "    lefthem = []\n",
    "    righthem = []\n",
    "    #sample freq = 250 Hz\n",
    "    #8 seconds = 2000 samples per epoch\n",
    "    count = 0\n",
    "    for i in range(len(left)):\n",
    "        \n",
    "       \n",
    "        lefthem.append(left[i])\n",
    "        righthem.append(right[i])\n",
    "        \n",
    "        \n",
    "        if count == 2000:\n",
    "            FFTLefthem = np.fft.fft(lefthem).real\n",
    "            FFTRighthem = np.fft.fft(righthem).real\n",
    "            \n",
    "            FFTLefthem = np.nanmean(FFTLefthem[8:12])\n",
    "            #print(FFTLefthem)\n",
    "            FFTRighthem = np.nanmean(FFTRighthem[8:12])\n",
    "        \n",
    "            FrontalAlpha = np.log10(abs(FFTRighthem) /abs(FFTLefthem))\n",
    "            epochs.append(FrontalAlpha)\n",
    "            count = 0\n",
    "            lefthem = []\n",
    "            righthem = []\n",
    "        count += 1\n",
    "        \n",
    "        \n",
    "        \n",
    "    return epochs\n",
    "\n",
    "anitaHappy = FrontalAlphaAsymmetry(eegHappyAnita['PO7'], eegHappyAnita['PO8'])\n",
    "\n",
    "anitaSad = FrontalAlphaAsymmetry(eegSadAnita['PO7'], eegSadAnita['PO8'])\n",
    "\n",
    "ethelHappy = FrontalAlphaAsymmetry(eegHappyEthel['PO7'], eegHappyEthel['PO8'])\n",
    "ethelSad = FrontalAlphaAsymmetry(eegSadEthel['PO7'], eegSadEthel['PO8'])\n"
   ]
  },
  {
   "cell_type": "code",
   "execution_count": 127,
   "id": "53cda715",
   "metadata": {},
   "outputs": [
    {
     "name": "stdout",
     "output_type": "stream",
     "text": [
      "['62', '64', '65', '67', '81', '83', '72']\n",
      "1.0\n",
      "0.7142857142857143\n",
      "0.4285714285714286\n",
      "0.1428571428571429\n",
      "-0.1428571428571428\n",
      "-0.4285714285714284\n",
      "-0.7142857142857142\n",
      "-1.0\n"
     ]
    }
   ],
   "source": [
    "#Define Modes\n",
    "\n",
    "ionian = [ \"62\", \"64\", \"65\", \"67\", \"81\", \"83\", \"72\"]  #Bright, Joyful, Stable\n",
    "dorian = [ \"62\", \"63\" ,\"65\", \"67\", \"81\", \"82\", \"72\"] #Jazzy, Bluesy, Rocky, Thoughtful, Uncertain, Sophisticated\n",
    "phrygian = [ \"61\" ,\"63\", \"65\", \"67\", \"80\", \"82\", \"72\"]  #Exotic, Latin, Lively, Dark, Mystic\n",
    "lydian =  [ \"62\" , \"64\" , \"66\" , \"67\" ,\"81\" ,\"83\", \"72\"] # Hopeful, Dreamy, Heavenly, Yearning, Ethereal, Uplifting\n",
    "mixolydian = [\"62\" , \"64\" , \"65\" , \"67\" , \"81\" , \"82\", \"72\"] #Positive, Bluesy, Rocky, Poppy, Searching \n",
    "aeolian = [ \"62\" , \"63\" , \"65\" , \"67\" , \"80\" , \"82\", \"72\"] #Sad, Melancholic, Romantic, Oppressive\n",
    "locrian = [ \"61\" , \"63\" , \"65\" , \"66\" , \"80\" , \"82\", \"72\"] #Complex, Unstable, Exotic, Tense\n",
    "\n",
    "scales = {'ionian' : ionian, 'dorian' : dorian, 'phrygian': phrygian, \n",
    "          'lydian': lydian, 'mixolydian':mixolydian, 'aeolian':aeolian,'locrian':locrian}\n",
    "phase = 50\n",
    "\n",
    "def getStep(num):\n",
    "    step = 2/7\n",
    "    return 1-num*step\n",
    "\n",
    "def get_Scale(faa):\n",
    "  \n",
    "    if faa >= 0:\n",
    "        return scales.get('ionian')\n",
    "\n",
    "    else:\n",
    "        return scales.get('aeolian')\n",
    "\n",
    " \n",
    "\n",
    "\n",
    "meanFAA = np.mean(faa)\n",
    "mode = get_Scale(meanFAA)\n",
    "print(mode)\n",
    "for i in range(8):\n",
    "    print(getStep(i))"
   ]
  },
  {
   "cell_type": "code",
   "execution_count": 129,
   "id": "c6321a29",
   "metadata": {},
   "outputs": [
    {
     "data": {
      "image/png": "[encoded data removed]",
      "text/plain": [
       "<Figure size 432x288 with 1 Axes>"
      ]
     },
     "metadata": {
      "needs_background": "light"
     },
     "output_type": "display_data"
    }
   ],
   "source": [
    "plt.plot(anitaHappy, color = '#03256C')\n",
    "plt.title('FAA Values')\n",
    "plt.xlabel('Time (epoch = 8 seconds)')\n",
    "plt.ylabel('Value')\n",
    "\n",
    "\n",
    "plt.axhline(y = 0, color = '#06BEE1', alpha = 0.5)\n",
    "\n",
    "plt.savefig('FAA Plot Anita Happy', dpi=300)\n"
   ]
  },
  {
   "cell_type": "code",
   "execution_count": 123,
   "id": "610ff941",
   "metadata": {},
   "outputs": [
    {
     "name": "stdout",
     "output_type": "stream",
     "text": [
      "['62', '64', '65', '67', '81', '83', '72']\n",
      "['62', '64', '65', '67', '81', '83', '72']\n",
      "['62', '64', '65', '67', '81', '83', '72']\n",
      "['62', '64', '65', '67', '81', '83', '72']\n",
      "['62', '64', '65', '67', '81', '83', '72']\n",
      "['62', '64', '65', '67', '81', '83', '72']\n",
      "['62', '64', '65', '67', '81', '83', '72']\n"
     ]
    }
   ],
   "source": [
    "picked_scales = []\n",
    "for i in range(len(faa)):\n",
    "    picked_scales.append(faa[i])\n",
    "\n",
    "print(picked_scales)"
   ]
  },
  {
   "cell_type": "code",
   "execution_count": 82,
   "id": "400d819c",
   "metadata": {},
   "outputs": [
    {
     "name": "stdout",
     "output_type": "stream",
     "text": [
      "[154020.77417318    385.11451431   1602.90674975 ...    726.42943325\n",
      "   1602.90674975    385.11451431]\n",
      "14.352745791024775\n"
     ]
    }
   ],
   "source": [
    "        \n",
    "#Find mean amplitude\n",
    "#create a new column with the average value for each channel\n",
    "cols = ['FZ', 'C3', 'CZ', 'C4', 'PZ', 'F3', 'OZ', 'F4']\n",
    "eeg[\"average\"] = eeg[cols].mean(axis=1)\n",
    "#df[\"average\"] = df.mean(axis=1)\n",
    "\n",
    "#create data frame with 250 samples\n",
    "#dada = eeg[\"average\"][j-250:j]\n",
    "#turn the dataframe into an array to make it the input for the fourier transform\n",
    "#numnum = np.array(dada)\n",
    "#fourier transform\n",
    "FFTSamples = np.fft.fft(eeg['average'])\n",
    "\n",
    "amplitudes = 2 / len(eeg['C3']) * np.abs(FFTSamples.real) \n",
    "mean_amp = np.mean(amplitudes)\n",
    "\n",
    "print(amplitudes)\n",
    "print(mean_amp)"
   ]
  },
  {
   "cell_type": "code",
   "execution_count": 76,
   "id": "0357c7f3",
   "metadata": {},
   "outputs": [
    {
     "name": "stdout",
     "output_type": "stream",
     "text": [
      "[188.63924735  94.02145043 116.54211846 ... 104.04339754 116.54211846\n",
      "  94.02145043]\n"
     ]
    },
    {
     "data": {
      "text/plain": [
       "Text(0, 0.5, 'Frequency')"
      ]
     },
     "execution_count": 76,
     "metadata": {},
     "output_type": "execute_result"
    },
    {
     "data": {
      "image/png": "[encoded data removed]",
      "text/plain": [
       "<Figure size 432x288 with 1 Axes>"
      ]
     },
     "metadata": {
      "needs_background": "light"
     },
     "output_type": "display_data"
    }
   ],
   "source": [
    "import numpy as np\n",
    "import matplotlib.pyplot as plt\n",
    "%matplotlib inline\n",
    "c = 40\n",
    "alpha = 1.1\n",
    "amp = 0\n",
    "\n",
    "\n",
    "alphas = np.random.uniform(0.5, 1.5, 15000)\n",
    "amps = np.random.uniform(150, 200, 50)\n",
    "\n",
    "\n",
    "def midiRange(c, alpha, amp):\n",
    "    lamp = np.log10(amp)\n",
    "    return  abs((c/alpha)*lamp)\n",
    "\n",
    "\n",
    "midis = midiRange(c, 1.10, amplitudes)\n",
    "plt.hist(midis)\n",
    "print(midis)\n",
    "\n",
    "plt.title('ScaleFree Notes')\n",
    "plt.xlabel('Note')\n",
    "plt.ylabel('Frequency')\n"
   ]
  },
  {
   "cell_type": "code",
   "execution_count": 67,
   "id": "6d0896fd",
   "metadata": {},
   "outputs": [
    {
     "name": "stdout",
     "output_type": "stream",
     "text": [
      "42.07036337832729\n"
     ]
    }
   ],
   "source": [
    "midi = midiRange(40,1.10,mean_amp)\n",
    "print(midi)"
   ]
  },
  {
   "cell_type": "code",
   "execution_count": 78,
   "id": "69546c10",
   "metadata": {},
   "outputs": [
    {
     "name": "stdout",
     "output_type": "stream",
     "text": [
      "[[72.        ]\n",
      " [66.98403538]\n",
      " [68.1779215 ]\n",
      " ...\n",
      " [67.51532795]\n",
      " [68.1779215 ]\n",
      " [66.98403538]]\n"
     ]
    },
    {
     "data": {
      "image/png": "[encoded data removed]",
      "text/plain": [
       "<Figure size 432x288 with 1 Axes>"
      ]
     },
     "metadata": {
      "needs_background": "light"
     },
     "output_type": "display_data"
    }
   ],
   "source": [
    "\n",
    "\n",
    "def midiNums(arr, mode):\n",
    "    midis_arr = arr.reshape(-1, 1)\n",
    "    #scaler = preprocessing.StandardScaler().fit(X_train)\n",
    "    scaler = preprocessing.MinMaxScaler(feature_range=(int(mode[0]), int(mode[-1])))\n",
    "    scaler = scaler.fit(midis_arr)\n",
    "    midis_scaled = scaler.transform(midis_arr)\n",
    "    return midis_scaled\n",
    "\n",
    "# Checking reconstruction\n",
    "#X_rec = scaler.inverse_transform(X_scaled)\n",
    "scaled = midiNums(midis, mode)\n",
    "plt.hist(scaled)\n",
    "plt.title('Midi Notes')\n",
    "plt.xlabel('Midi Note')\n",
    "plt.ylabel('Frequency')\n",
    "print(scaled)"
   ]
  },
  {
   "cell_type": "code",
   "execution_count": 104,
   "id": "ad076771",
   "metadata": {},
   "outputs": [
    {
     "data": {
      "text/plain": [
       "Text(0, 0.5, 'Frequency')"
      ]
     },
     "execution_count": 104,
     "metadata": {},
     "output_type": "execute_result"
    },
    {
     "data": {
      "image/png": "[encoded data removed]",
      "text/plain": [
       "<Figure size 432x288 with 1 Axes>"
      ]
     },
     "metadata": {
      "needs_background": "light"
     },
     "output_type": "display_data"
    }
   ],
   "source": [
    "def getNote(mode, midi_scaled):\n",
    "    \n",
    "    #midis_arr = arr.reshape(-1, 1)\n",
    "    #scaler = preprocessing.StandardScaler().fit(X_train)\n",
    "    scaler = preprocessing.MinMaxScaler(feature_range=(0, 7))\n",
    "    scaler = scaler.fit(midi_scaled)\n",
    "    note_index = scaler.transform(midi_scaled)\n",
    "    rounded = np.round(note_index)\n",
    "    return rounded\n",
    "    \n",
    "\n",
    "\n",
    "notes = getNote(mode, scaled)\n",
    "#plt.scatter(x = np.arange(50), y = notes)\n",
    "plt.hist(notes)\n",
    "plt.title('Selected Notes')\n",
    "plt.xlabel('Note Index')\n",
    "plt.ylabel('Frequency')\n",
    "\n",
    "\n"
   ]
  },
  {
   "cell_type": "code",
   "execution_count": 120,
   "id": "8c2a55e8",
   "metadata": {},
   "outputs": [
    {
     "name": "stdout",
     "output_type": "stream",
     "text": [
      "         0\n",
      "0.0   2936\n",
      "1.0  10783\n",
      "2.0    964\n",
      "3.0    246\n",
      "4.0     64\n",
      "5.0      6\n",
      "7.0      1\n"
     ]
    },
    {
     "data": {
      "image/png": "[encoded data removed]",
      "text/plain": [
       "<Figure size 432x288 with 1 Axes>"
      ]
     },
     "metadata": {
      "needs_background": "light"
     },
     "output_type": "display_data"
    }
   ],
   "source": [
    "\n",
    "unique, counts = np.unique(notes, return_counts=True)\n",
    "notefreq = pd.DataFrame(counts, unique)\n",
    "\n",
    "\n",
    "print(notefreq)\n",
    "plt.imshow(notefreq, cmap='hot', interpolation='nearest')\n",
    "plt.show()"
   ]
  }
 ],
 "metadata": {
  "kernelspec": {
   "display_name": "Python 3 (ipykernel)",
   "language": "python",
   "name": "python3"
  },
  "language_info": {
   "codemirror_mode": {
    "name": "ipython",
    "version": 3
   },
   "file_extension": ".py",
   "mimetype": "text/x-python",
   "name": "python",
   "nbconvert_exporter": "python",
   "pygments_lexer": "ipython3",
   "version": "3.9.7"
  }
 },
 "nbformat": 4,
 "nbformat_minor": 5
}
